{
 "cells": [
  {
   "cell_type": "code",
   "execution_count": null,
   "id": "b3006e55",
   "metadata": {},
   "outputs": [],
   "source": [
    "import glob\n",
    "import pandas as pd\n",
    "import numpy as np\n",
    "# from datetime import datetime\n",
    "# from tqdm import tqdm\n",
    "from Utils import *"
   ]
  },
  {
   "cell_type": "code",
   "execution_count": null,
   "id": "780e1902",
   "metadata": {},
   "outputs": [],
   "source": [
    "#Get all file names\n",
    "path = '../../data/physionet/set-a'\n",
    "csv_files = glob.glob(path + \"/*.txt\")"
   ]
  },
  {
   "cell_type": "code",
   "execution_count": null,
   "id": "21bab322",
   "metadata": {},
   "outputs": [],
   "source": [
    "#Outcomes\n",
    "outcomes=pd.read_csv(path +'/Outcomes.csv')\n",
    "outcomes.head()"
   ]
  },
  {
   "cell_type": "code",
   "execution_count": null,
   "id": "951d3f86",
   "metadata": {},
   "outputs": [],
   "source": [
    "#Load in csv format and concat all files\n",
    "data = (pd.read_csv(file) for file in csv_files)\n",
    "data   = pd.concat(data, ignore_index=True)\n",
    "data.head()"
   ]
  },
  {
   "cell_type": "code",
   "execution_count": null,
   "id": "a759404f",
   "metadata": {},
   "outputs": [],
   "source": [
    "#Itinial features\n",
    "#['RecordID' 'Age' 'Gender' 'Height' 'ICUType'] are not include in the study\n",
    "print(f'Features {data.Parameter.unique()}')"
   ]
  },
  {
   "cell_type": "code",
   "execution_count": null,
   "id": "fee6b102",
   "metadata": {},
   "outputs": [],
   "source": [
    "univariate_length=data.groupby(['Parameter','RecordID'])['Value'].count().values\n",
    "univariate_length=int(np.max(univariate_length))\n",
    "print(f'# of observations per univariate time series {univariate_length}')\n",
    "no_missing_values=len(data.loc[data.Value==-1,:])\n",
    "print(f'# of missing values {no_missing_values}')"
   ]
  },
  {
   "cell_type": "code",
   "execution_count": null,
   "id": "eccf042b",
   "metadata": {},
   "outputs": [],
   "source": [
    "#Create mask that determines whether a value is missing.\n",
    "data['Mask']=data.Value.apply(lambda x: 1 if x>=0 else 0)\n",
    "data.head(2)"
   ]
  },
  {
   "cell_type": "code",
   "execution_count": null,
   "id": "1f7cfa69",
   "metadata": {},
   "outputs": [],
   "source": [
    "univariate_length,list_lengths=getMaxLength(data)\n",
    "print(f'# Number of obsevation per univaraite {univariate_length}')"
   ]
  },
  {
   "cell_type": "code",
   "execution_count": null,
   "id": "36b45fea",
   "metadata": {},
   "outputs": [],
   "source": [
    "average_length=int(np.max(list_lengths))\n",
    "print(f'Average length per univaraite {average_length}')"
   ]
  },
  {
   "cell_type": "code",
   "execution_count": null,
   "id": "8361a496",
   "metadata": {},
   "outputs": [],
   "source": [
    "#Samples construction\n",
    "#target_name define the name of the downstream task.\n",
    "#See outcomes dataframe above. \n",
    "VALUES,TIMESTAMPS,MASKS,PADDINGS,OUTCOMES=samplesConstructorPhysionet(\n",
    "    data,outcomes,univariate_length,average_length,target_name='In-hospital_death',mean_length=False)"
   ]
  },
  {
   "cell_type": "code",
   "execution_count": null,
   "id": "f41ded94",
   "metadata": {},
   "outputs": [],
   "source": [
    "path='data/'\n",
    "#Save the samples\n",
    "np.save(path+'/Values',VALUES)\n",
    "np.save(path+'/Timestamps',TIMESTAMPS)\n",
    "np.save(path+'/Masks',MASKS)\n",
    "np.save(path+'/Padds',PADDINGS)\n",
    "np.save(path+'/Targets',OUTCOMES)"
   ]
  }
 ],
 "metadata": {
  "kernelspec": {
   "display_name": "Python 3 (ipykernel)",
   "language": "python",
   "name": "python3"
  },
  "language_info": {
   "codemirror_mode": {
    "name": "ipython",
    "version": 3
   },
   "file_extension": ".py",
   "mimetype": "text/x-python",
   "name": "python",
   "nbconvert_exporter": "python",
   "pygments_lexer": "ipython3",
   "version": "3.10.12"
  }
 },
 "nbformat": 4,
 "nbformat_minor": 5
}
